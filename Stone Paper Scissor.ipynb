{
 "cells": [
  {
   "cell_type": "code",
   "execution_count": null,
   "metadata": {},
   "outputs": [
    {
     "name": "stdout",
     "output_type": "stream",
     "text": [
      "Enter choice\n",
      "paper\n",
      "Computer's choice is stone\n",
      "Enter choice\n",
      "scissor\n",
      "Computer's choice is stone\n",
      "Enter choice\n",
      "paper\n",
      "Computer's choice is stone\n",
      "User score: 2 Comp score: 1\n",
      "user won\n",
      "\n",
      "Press 1. Continue 0. Exit\n",
      "1\n",
      "Enter choice\n",
      "stone\n",
      "Computer's choice is paper\n",
      "Enter choice\n",
      "paper\n",
      "Computer's choice is paper\n"
     ]
    }
   ],
   "source": [
    "import random\n",
    "mylist = [\"paper\",\"scissor\",\"stone\"]\n",
    "jugaad = [1,-2]\n",
    "ch = 1\n",
    "while(ch==1):\n",
    "    count = 0\n",
    "    user_score = 0\n",
    "    comp_score = 0\n",
    "    for i in range(0,3):\n",
    "        cn = random.randint(0,2)\n",
    "        user = input(\"Enter choice\\n\")\n",
    "        un = mylist.index(user)\n",
    "        print(\"Computer's choice is\",mylist[cn])\n",
    "        if un - cn in jugaad:\n",
    "            user_score += 1\n",
    "        elif un!=cn:\n",
    "            comp_score += 1\n",
    "    print(\"User score:\",user_score,\"Comp score:\",comp_score)\n",
    "    if user_score > comp_score:\n",
    "        print(\"user won\\n\")\n",
    "    elif comp_score > user_score:\n",
    "        print(\"Computer won\\n\")\n",
    "    else:\n",
    "        print(\"It is a TIE\\n\")\n",
    "    ch = int(input(\"Press 1. Continue 0. Exit\\n\"))\n"
   ]
  },
  {
   "cell_type": "code",
   "execution_count": null,
   "metadata": {},
   "outputs": [],
   "source": []
  }
 ],
 "metadata": {
  "kernelspec": {
   "display_name": "Python 3",
   "language": "python",
   "name": "python3"
  },
  "language_info": {
   "codemirror_mode": {
    "name": "ipython",
    "version": 3
   },
   "file_extension": ".py",
   "mimetype": "text/x-python",
   "name": "python",
   "nbconvert_exporter": "python",
   "pygments_lexer": "ipython3",
   "version": "3.6.5"
  }
 },
 "nbformat": 4,
 "nbformat_minor": 2
}
